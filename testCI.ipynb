{
  "nbformat": 4,
  "nbformat_minor": 0,
  "metadata": {
    "colab": {
      "provenance": [],
      "authorship_tag": "ABX9TyMGlAvna7wGjAeL+Dj2d4NX",
      "include_colab_link": true
    },
    "kernelspec": {
      "name": "python3",
      "display_name": "Python 3"
    },
    "language_info": {
      "name": "python"
    }
  },
  "cells": [
    {
      "cell_type": "markdown",
      "metadata": {
        "id": "view-in-github",
        "colab_type": "text"
      },
      "source": [
        "<a href=\"https://colab.research.google.com/github/akhilex/STA/blob/main/testCI.ipynb\" target=\"_parent\"><img src=\"https://colab.research.google.com/assets/colab-badge.svg\" alt=\"Open In Colab\"/></a>"
      ]
    },
    {
      "cell_type": "code",
      "execution_count": null,
      "metadata": {
        "colab": {
          "base_uri": "https://localhost:8080/"
        },
        "id": "kRSR-HY0qyJg",
        "outputId": "47663afe-5b2a-42dc-a202-aa0a06e260f2"
      },
      "outputs": [
        {
          "output_type": "stream",
          "name": "stdout",
          "text": [
            "Test Passed: File downloaded successfully.\n"
          ]
        }
      ],
      "source": [
        "from selenium import webdriver\n",
        "from selenium.webdriver.chrome.options import Options\n",
        "from selenium.webdriver.common.by import By\n",
        "import os\n",
        "import time\n",
        "\n",
        "# Setup Chrome options\n",
        "chrome_options = Options()\n",
        "chrome_options.add_argument(\"--headless\")  # Runs Chrome in headless mode.\n",
        "chrome_options.add_argument(\"--no-sandbox\")  # Bypass OS security model\n",
        "chrome_options.add_argument(\"--disable-dev-shm-usage\")  # Overcome limited resource problems\n",
        "chrome_options.add_experimental_option(\"prefs\", {\n",
        "    \"download.default_directory\": \"/content\",\n",
        "    \"download.prompt_for_download\": False,\n",
        "    \"safebrowsing.enabled\": True\n",
        "})\n",
        "\n",
        "# Initialize WebDriver\n",
        "driver = webdriver.Chrome(options=chrome_options)\n",
        "\n",
        "try:\n",
        "    # Rest of your code here\n",
        "    driver.get(\"https://the-internet.herokuapp.com/download\")\n",
        "    file_link = driver.find_element(By.LINK_TEXT, \"sample.txt\")\n",
        "    file_link.click()\n",
        "    time.sleep(10)  # Adjust timing based on expected download time\n",
        "\n",
        "    file_path = \"/content/sample.txt\"\n",
        "    if os.path.exists(file_path):\n",
        "        print(\"Test Passed: File downloaded successfully.\")\n",
        "    else:\n",
        "        print(\"Test Failed: File not downloaded.\")\n",
        "\n",
        "except Exception as e:\n",
        "    print(f\"An error occurred: {e}\")\n",
        "\n",
        "finally:\n",
        "  driver.quit()\n",
        "  if os.path.exists(file_path):\n",
        "    os.remove(file_path)\n",
        "\n"
      ]
    },
    {
      "cell_type": "code",
      "source": [
        "import os\n",
        "print(\"Files \")"
      ],
      "metadata": {
        "id": "NIl_E130vY7-"
      },
      "execution_count": null,
      "outputs": []
    },
    {
      "cell_type": "code",
      "source": [
        "\n"
      ],
      "metadata": {
        "id": "19_82dGCVR22"
      },
      "execution_count": null,
      "outputs": []
    }
  ]
}