{
  "nbformat": 4,
  "nbformat_minor": 0,
  "metadata": {
    "colab": {
      "provenance": [],
      "authorship_tag": "ABX9TyMHwSaKPnno+PF2VFwfpMvE",
      "include_colab_link": true
    },
    "kernelspec": {
      "name": "python3",
      "display_name": "Python 3"
    },
    "language_info": {
      "name": "python"
    }
  },
  "cells": [
    {
      "cell_type": "markdown",
      "metadata": {
        "id": "view-in-github",
        "colab_type": "text"
      },
      "source": [
        "<a href=\"https://colab.research.google.com/github/akhilex/STA/blob/main/testCI.ipynb\" target=\"_parent\"><img src=\"https://colab.research.google.com/assets/colab-badge.svg\" alt=\"Open In Colab\"/></a>"
      ]
    },
    {
      "cell_type": "code",
      "execution_count": 5,
      "metadata": {
        "colab": {
          "base_uri": "https://localhost:8080/"
        },
        "id": "kRSR-HY0qyJg",
        "outputId": "e5d5bfcc-f7cc-4409-93e4-45ecbdb9fba7"
      },
      "outputs": [
        {
          "output_type": "stream",
          "name": "stdout",
          "text": [
            "An error occurred: Message: no such element: Unable to locate element: {\"method\":\"link text\",\"selector\":\"sample.txt\"}\n",
            "  (Session info: chrome=131.0.6778.85); For documentation on this error, please visit: https://www.selenium.dev/documentation/webdriver/troubleshooting/errors#no-such-element-exception\n",
            "Stacktrace:\n",
            "#0 0x5c13ffc8731a <unknown>\n",
            "#1 0x5c13ff79d6e0 <unknown>\n",
            "#2 0x5c13ff7ec3e6 <unknown>\n",
            "#3 0x5c13ff7ec681 <unknown>\n",
            "#4 0x5c13ff831b04 <unknown>\n",
            "#5 0x5c13ff81048d <unknown>\n",
            "#6 0x5c13ff82eed7 <unknown>\n",
            "#7 0x5c13ff810203 <unknown>\n",
            "#8 0x5c13ff7decc0 <unknown>\n",
            "#9 0x5c13ff7dfc9e <unknown>\n",
            "#10 0x5c13ffc54d0b <unknown>\n",
            "#11 0x5c13ffc58c92 <unknown>\n",
            "#12 0x5c13ffc41b3c <unknown>\n",
            "#13 0x5c13ffc59807 <unknown>\n",
            "#14 0x5c13ffc270df <unknown>\n",
            "#15 0x5c13ffc76578 <unknown>\n",
            "#16 0x5c13ffc76740 <unknown>\n",
            "#17 0x5c13ffc86196 <unknown>\n",
            "#18 0x788e1a79dac3 <unknown>\n",
            "\n"
          ]
        }
      ],
      "source": [
        "from selenium import webdriver\n",
        "from selenium.webdriver.chrome.options import Options\n",
        "from selenium.webdriver.common.by import By\n",
        "import os\n",
        "import time\n",
        "\n",
        "# Setup Chrome options\n",
        "chrome_options = Options()\n",
        "chrome_options.add_argument(\"--headless\")  # Runs Chrome in headless mode.\n",
        "chrome_options.add_argument(\"--no-sandbox\")  # Bypass OS security model\n",
        "chrome_options.add_argument(\"--disable-dev-shm-usage\")  # Overcome limited resource problems\n",
        "chrome_options.add_experimental_option(\"prefs\", {\n",
        "    \"download.default_directory\": \"/content\",\n",
        "    \"download.prompt_for_download\": False,\n",
        "    \"safebrowsing.enabled\": True\n",
        "})\n",
        "\n",
        "# Initialize WebDriver\n",
        "driver = webdriver.Chrome(options=chrome_options)\n",
        "\n",
        "# Define file_path outside the try block to make it accessible in finally\n",
        "file_path = \"/content/sample.txt\"\n",
        "\n",
        "try:\n",
        "    # Rest of your code here\n",
        "    driver.get(\"https://the-internet.herokuapp.com/download\")\n",
        "    file_link = driver.find_element(By.LINK_TEXT, \"sample.txt\")\n",
        "    file_link.click()\n",
        "    time.sleep(10)  # Adjust timing based on expected download time\n",
        "\n",
        "    if os.path.exists(file_path):\n",
        "        print(\"Test Passed: File downloaded successfully.\")\n",
        "    else:\n",
        "        print(\"Test Failed: File not downloaded.\")\n",
        "\n",
        "except Exception as e:\n",
        "    print(f\"An error occurred: {e}\")\n",
        "\n",
        "finally:\n",
        "  driver.quit()\n",
        "  if os.path.exists(file_path):\n",
        "    os.remove(file_path)"
      ]
    },
    {
      "cell_type": "code",
      "source": [
        "pip install selenium"
      ],
      "metadata": {
        "colab": {
          "base_uri": "https://localhost:8080/"
        },
        "id": "yhiYjP_f1Ksd",
        "outputId": "a2ccbec5-92ed-4761-b7d6-d942d1f111ba"
      },
      "execution_count": 3,
      "outputs": [
        {
          "output_type": "stream",
          "name": "stdout",
          "text": [
            "Collecting selenium\n",
            "  Downloading selenium-4.26.1-py3-none-any.whl.metadata (7.1 kB)\n",
            "Requirement already satisfied: urllib3<3,>=1.26 in /usr/local/lib/python3.10/dist-packages (from urllib3[socks]<3,>=1.26->selenium) (2.2.3)\n",
            "Collecting trio~=0.17 (from selenium)\n",
            "  Downloading trio-0.27.0-py3-none-any.whl.metadata (8.6 kB)\n",
            "Collecting trio-websocket~=0.9 (from selenium)\n",
            "  Downloading trio_websocket-0.11.1-py3-none-any.whl.metadata (4.7 kB)\n",
            "Requirement already satisfied: certifi>=2021.10.8 in /usr/local/lib/python3.10/dist-packages (from selenium) (2024.8.30)\n",
            "Requirement already satisfied: typing_extensions~=4.9 in /usr/local/lib/python3.10/dist-packages (from selenium) (4.12.2)\n",
            "Requirement already satisfied: websocket-client~=1.8 in /usr/local/lib/python3.10/dist-packages (from selenium) (1.8.0)\n",
            "Requirement already satisfied: attrs>=23.2.0 in /usr/local/lib/python3.10/dist-packages (from trio~=0.17->selenium) (24.2.0)\n",
            "Collecting sortedcontainers (from trio~=0.17->selenium)\n",
            "  Downloading sortedcontainers-2.4.0-py2.py3-none-any.whl.metadata (10 kB)\n",
            "Requirement already satisfied: idna in /usr/local/lib/python3.10/dist-packages (from trio~=0.17->selenium) (3.10)\n",
            "Collecting outcome (from trio~=0.17->selenium)\n",
            "  Downloading outcome-1.3.0.post0-py2.py3-none-any.whl.metadata (2.6 kB)\n",
            "Requirement already satisfied: sniffio>=1.3.0 in /usr/local/lib/python3.10/dist-packages (from trio~=0.17->selenium) (1.3.1)\n",
            "Requirement already satisfied: exceptiongroup in /usr/local/lib/python3.10/dist-packages (from trio~=0.17->selenium) (1.2.2)\n",
            "Collecting wsproto>=0.14 (from trio-websocket~=0.9->selenium)\n",
            "  Downloading wsproto-1.2.0-py3-none-any.whl.metadata (5.6 kB)\n",
            "Requirement already satisfied: pysocks!=1.5.7,<2.0,>=1.5.6 in /usr/local/lib/python3.10/dist-packages (from urllib3[socks]<3,>=1.26->selenium) (1.7.1)\n",
            "Requirement already satisfied: h11<1,>=0.9.0 in /usr/local/lib/python3.10/dist-packages (from wsproto>=0.14->trio-websocket~=0.9->selenium) (0.14.0)\n",
            "Downloading selenium-4.26.1-py3-none-any.whl (9.7 MB)\n",
            "\u001b[2K   \u001b[90m━━━━━━━━━━━━━━━━━━━━━━━━━━━━━━━━━━━━━━━━\u001b[0m \u001b[32m9.7/9.7 MB\u001b[0m \u001b[31m45.5 MB/s\u001b[0m eta \u001b[36m0:00:00\u001b[0m\n",
            "\u001b[?25hDownloading trio-0.27.0-py3-none-any.whl (481 kB)\n",
            "\u001b[2K   \u001b[90m━━━━━━━━━━━━━━━━━━━━━━━━━━━━━━━━━━━━━━━━\u001b[0m \u001b[32m481.7/481.7 kB\u001b[0m \u001b[31m21.0 MB/s\u001b[0m eta \u001b[36m0:00:00\u001b[0m\n",
            "\u001b[?25hDownloading trio_websocket-0.11.1-py3-none-any.whl (17 kB)\n",
            "Downloading wsproto-1.2.0-py3-none-any.whl (24 kB)\n",
            "Downloading outcome-1.3.0.post0-py2.py3-none-any.whl (10 kB)\n",
            "Downloading sortedcontainers-2.4.0-py2.py3-none-any.whl (29 kB)\n",
            "Installing collected packages: sortedcontainers, wsproto, outcome, trio, trio-websocket, selenium\n",
            "Successfully installed outcome-1.3.0.post0 selenium-4.26.1 sortedcontainers-2.4.0 trio-0.27.0 trio-websocket-0.11.1 wsproto-1.2.0\n"
          ]
        }
      ]
    },
    {
      "cell_type": "code",
      "source": [
        "import os\n",
        "print(\"Files \")"
      ],
      "metadata": {
        "id": "NIl_E130vY7-",
        "colab": {
          "base_uri": "https://localhost:8080/"
        },
        "outputId": "bf226c95-16f9-4bc1-f170-6d851005a02f"
      },
      "execution_count": 6,
      "outputs": [
        {
          "output_type": "stream",
          "name": "stdout",
          "text": [
            "Files \n"
          ]
        }
      ]
    },
    {
      "cell_type": "code",
      "source": [
        "\n"
      ],
      "metadata": {
        "id": "19_82dGCVR22"
      },
      "execution_count": null,
      "outputs": []
    }
  ]
}